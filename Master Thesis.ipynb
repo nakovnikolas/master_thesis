{
 "cells": [
  {
   "cell_type": "markdown",
   "id": "0a1b27e0",
   "metadata": {},
   "source": [
    "# 0. Import Dependencies"
   ]
  },
  {
   "cell_type": "markdown",
   "id": "63cf0e89",
   "metadata": {},
   "source": [
    "Note: The code in section 0 should be run, while the code in section 1 and section 2 can be skipped"
   ]
  },
  {
   "cell_type": "code",
   "execution_count": 82,
   "id": "cb229650",
   "metadata": {},
   "outputs": [],
   "source": [
    "## data manipulation, statistics and visualization\n",
    "import pandas as pd\n",
    "import numpy as np\n",
    "import random\n",
    "import matplotlib.pyplot as plt\n",
    "import seaborn as sns\n",
    "from scipy.stats import skew, kurtosis, shapiro, ranksums, ttest_ind\n",
    "import statsmodels.api as sm\n",
    "from statsmodels.stats.multitest import multipletests\n",
    "import scipy.signal as signal\n",
    "\n",
    "## model development and evaluation\n",
    "import sklearn as sk\n",
    "from sklearn.svm import SVC\n",
    "from sklearn.neighbors import KNeighborsClassifier\n",
    "from sklearn.dummy import DummyClassifier\n",
    "from sklearn.model_selection import train_test_split, RandomizedSearchCV,GridSearchCV, LeaveOneOut, cross_val_score, cross_validate, learning_curve\n",
    "from sklearn.preprocessing import StandardScaler, MinMaxScaler\n",
    "from sklearn.metrics import recall_score, precision_score, f1_score, make_scorer, accuracy_score, confusion_matrix\n",
    "from sklearn.decomposition import PCA\n",
    "\n",
    "\n",
    "## EEG analysis, DFA, feature selection\n",
    "import mne\n",
    "import fathon\n",
    "from fathon import fathonUtils as fu\n",
    "import mrmr\n",
    "from mrmr import mrmr_classif\n",
    "\n",
    "## system operations\n",
    "import os\n",
    "import glob\n",
    "import openpyxl\n",
    "\n",
    "# %matplotlib inline\n",
    "%matplotlib inline"
   ]
  },
  {
   "cell_type": "code",
   "execution_count": 83,
   "id": "5922435f",
   "metadata": {},
   "outputs": [],
   "source": [
    "# set the working paths\n",
    "\n",
    "# PATH = r'C:\\Users\\nikol\\home\\master_thesis\\HRI'\n",
    "# EEG_PATH = os.path.join(PATH,'Data', 'Cleaned EEG signals')\n",
    "\n",
    "\n",
    "DATA_PATH = os.path.join('Data', 'Feature powers.xlsx')\n",
    "TARGET_PATH = os.path.join('Data', 'Target data.xlsx')"
   ]
  },
  {
   "cell_type": "markdown",
   "id": "9f9f45d4",
   "metadata": {},
   "source": [
    "# 1. Load EEG data"
   ]
  },
  {
   "cell_type": "markdown",
   "id": "4eaea7a6",
   "metadata": {},
   "source": [
    "Note: The code in the current section cannot be run, because no raw EEG signals are provided, due to privacy restictions.\n",
    "\n",
    "The code from section 0 and section 3 onward is sufficient for the development of the models."
   ]
  },
  {
   "cell_type": "code",
   "execution_count": 4,
   "id": "3b53a164",
   "metadata": {
    "collapsed": true
   },
   "outputs": [
    {
     "name": "stdout",
     "output_type": "stream",
     "text": [
      "Reading C:\\Users\\nikol\\home\\master_thesis\\HRI\\Data\\Cleaned EEG signals\\10_final.fdt\n",
      "Reading C:\\Users\\nikol\\home\\master_thesis\\HRI\\Data\\Cleaned EEG signals\\11_final.fdt\n",
      "Reading C:\\Users\\nikol\\home\\master_thesis\\HRI\\Data\\Cleaned EEG signals\\12_final.fdt\n",
      "Reading C:\\Users\\nikol\\home\\master_thesis\\HRI\\Data\\Cleaned EEG signals\\13_final.fdt\n",
      "Reading C:\\Users\\nikol\\home\\master_thesis\\HRI\\Data\\Cleaned EEG signals\\14_final.fdt\n",
      "Reading C:\\Users\\nikol\\home\\master_thesis\\HRI\\Data\\Cleaned EEG signals\\15_final.fdt\n",
      "Reading C:\\Users\\nikol\\home\\master_thesis\\HRI\\Data\\Cleaned EEG signals\\16_final.fdt\n",
      "Reading C:\\Users\\nikol\\home\\master_thesis\\HRI\\Data\\Cleaned EEG signals\\17_final.fdt\n",
      "Reading C:\\Users\\nikol\\home\\master_thesis\\HRI\\Data\\Cleaned EEG signals\\18_final.fdt\n",
      "Reading C:\\Users\\nikol\\home\\master_thesis\\HRI\\Data\\Cleaned EEG signals\\19_final.fdt\n",
      "Reading C:\\Users\\nikol\\home\\master_thesis\\HRI\\Data\\Cleaned EEG signals\\20_final.fdt\n",
      "Reading C:\\Users\\nikol\\home\\master_thesis\\HRI\\Data\\Cleaned EEG signals\\21_final.fdt\n",
      "Reading C:\\Users\\nikol\\home\\master_thesis\\HRI\\Data\\Cleaned EEG signals\\22_final.fdt\n",
      "Reading C:\\Users\\nikol\\home\\master_thesis\\HRI\\Data\\Cleaned EEG signals\\23_final.fdt\n",
      "Reading C:\\Users\\nikol\\home\\master_thesis\\HRI\\Data\\Cleaned EEG signals\\24_final.fdt\n",
      "Reading C:\\Users\\nikol\\home\\master_thesis\\HRI\\Data\\Cleaned EEG signals\\25_final.fdt\n",
      "Reading C:\\Users\\nikol\\home\\master_thesis\\HRI\\Data\\Cleaned EEG signals\\26_final.fdt\n",
      "Reading C:\\Users\\nikol\\home\\master_thesis\\HRI\\Data\\Cleaned EEG signals\\27_final.fdt\n",
      "Reading C:\\Users\\nikol\\home\\master_thesis\\HRI\\Data\\Cleaned EEG signals\\28_final.fdt\n",
      "Reading C:\\Users\\nikol\\home\\master_thesis\\HRI\\Data\\Cleaned EEG signals\\29_final.fdt\n",
      "Reading C:\\Users\\nikol\\home\\master_thesis\\HRI\\Data\\Cleaned EEG signals\\30_final.fdt\n",
      "Reading C:\\Users\\nikol\\home\\master_thesis\\HRI\\Data\\Cleaned EEG signals\\31_final.fdt\n",
      "Reading C:\\Users\\nikol\\home\\master_thesis\\HRI\\Data\\Cleaned EEG signals\\32_final.fdt\n",
      "Reading C:\\Users\\nikol\\home\\master_thesis\\HRI\\Data\\Cleaned EEG signals\\33_final.fdt\n",
      "Reading C:\\Users\\nikol\\home\\master_thesis\\HRI\\Data\\Cleaned EEG signals\\34_final.fdt\n",
      "Reading C:\\Users\\nikol\\home\\master_thesis\\HRI\\Data\\Cleaned EEG signals\\35_final.fdt\n",
      "Reading C:\\Users\\nikol\\home\\master_thesis\\HRI\\Data\\Cleaned EEG signals\\36_final.fdt\n",
      "Reading C:\\Users\\nikol\\home\\master_thesis\\HRI\\Data\\Cleaned EEG signals\\37_final.fdt\n",
      "Reading C:\\Users\\nikol\\home\\master_thesis\\HRI\\Data\\Cleaned EEG signals\\38_final.fdt\n",
      "Reading C:\\Users\\nikol\\home\\master_thesis\\HRI\\Data\\Cleaned EEG signals\\39_final.fdt\n",
      "Reading C:\\Users\\nikol\\home\\master_thesis\\HRI\\Data\\Cleaned EEG signals\\40_final.fdt\n",
      "Reading C:\\Users\\nikol\\home\\master_thesis\\HRI\\Data\\Cleaned EEG signals\\41_final.fdt\n",
      "Reading C:\\Users\\nikol\\home\\master_thesis\\HRI\\Data\\Cleaned EEG signals\\42_final.fdt\n",
      "Reading C:\\Users\\nikol\\home\\master_thesis\\HRI\\Data\\Cleaned EEG signals\\43_final.fdt\n",
      "Reading C:\\Users\\nikol\\home\\master_thesis\\HRI\\Data\\Cleaned EEG signals\\44_final.fdt\n",
      "Reading C:\\Users\\nikol\\home\\master_thesis\\HRI\\Data\\Cleaned EEG signals\\45_final.fdt\n",
      "Reading C:\\Users\\nikol\\home\\master_thesis\\HRI\\Data\\Cleaned EEG signals\\46_final.fdt\n",
      "Reading C:\\Users\\nikol\\home\\master_thesis\\HRI\\Data\\Cleaned EEG signals\\47_final.fdt\n",
      "Reading C:\\Users\\nikol\\home\\master_thesis\\HRI\\Data\\Cleaned EEG signals\\48_final.fdt\n",
      "Reading C:\\Users\\nikol\\home\\master_thesis\\HRI\\Data\\Cleaned EEG signals\\49_final.fdt\n",
      "Reading C:\\Users\\nikol\\home\\master_thesis\\HRI\\Data\\Cleaned EEG signals\\9_final.fdt\n"
     ]
    }
   ],
   "source": [
    "# robot_indx = [9, 10, 11, 12, 13, 14, 15, 16, 17, 18, 21, 22, 23, 28, 29, 32, 37, 46, 47, 49] #[9, 10, 11, 12, 13, 14, 15, 16, 17, 18, 21, 22, 23, 28, 29, 32, 37, 46, 47, 49]\n",
    "# display_indx = [19, 20, 24, 25, 26, 27, 30, 31, 33, 34, 35, 36, 38, 39, 40, 41, 42, 43, 44, 45, 48] #[19, 20, 24, 25, 26, 27, 30, 31, 32, 33, 34, 35, 36, 38, 39, 40, 41, 42, 43, 44, 45, 48]\n",
    "\n",
    "\n",
    "# robot_dict = {}\n",
    "# display_dict = {}\n",
    "# files = glob.glob(EEG_PATH + \"\\*.set\")\n",
    "\n",
    "# for filePath in files:\n",
    "#     fName = os.path.basename(filePath) #filename\n",
    "#     _, ext = os.path.splitext(filePath) #extension (.set)\n",
    "#     p = int(os.path.splitext(fName)[0].split('_')[0]) #split filenames into participant integers\n",
    "    \n",
    "#     if p in robot_indx: # add each file with index in participant indeces to robot group\n",
    "#         robot_dict[p] = mne.io.read_raw_eeglab(filePath, preload=False)\n",
    "#     elif p in display_indx: # and display group\n",
    "#         display_dict[p] = mne.io.read_raw_eeglab(filePath, preload=False)"
   ]
  },
  {
   "cell_type": "code",
   "execution_count": 5,
   "id": "839b9433",
   "metadata": {},
   "outputs": [
    {
     "name": "stdout",
     "output_type": "stream",
     "text": [
      "robot-group dict: 20 participant(s)\n",
      "display-group dict: 21 participant(s)\n"
     ]
    }
   ],
   "source": [
    "# # check participant count per condition\n",
    "# n_robot = len(robot_dict)\n",
    "# n_display = len(display_dict)\n",
    "\n",
    "# print(\"robot-group dict:\", n_robot, 'participant(s)')\n",
    "# print(\"display-group dict:\", n_display, 'participant(s)')\n",
    "\n",
    "# # define dictionary to map 10-20 channel names to eeg sensor locations\n",
    "# channel_dict = {}\n",
    "# channels = ['E5', 'E10', 'E12', 'E20', 'E24', 'E28', 'E35', 'E39', 'E42', 'E50', 'E52', 'E60', 'E6', 'E18', 'E58', 'E34', 'E37','Cz']\n",
    "# channel_names = ['Fp2', 'Fp1', 'F3', 'C3', 'T7', 'P3', 'O1', 'O2', 'P4', 'C4', 'T8', 'F4', 'Fz', 'F7', 'F8', 'Pz', 'Oz', 'Cz']\n",
    "\n",
    "# x = 0\n",
    "# for ch in channels:\n",
    "#     channel_dict[ch] = channel_names[x]\n",
    "#     x+=1\n",
    "\n",
    "# # change channel names to 10-20 system\n",
    "# for participant in robot_dict:\n",
    "#     robot_dict[participant].pick_channels(channels)\n",
    "#     robot_dict[participant].rename_channels(channel_dict)\n",
    "    \n",
    "# for participant in display_dict:\n",
    "#     display_dict[participant].pick_channels(channels)\n",
    "#     display_dict[participant].rename_channels(channel_dict)"
   ]
  },
  {
   "cell_type": "code",
   "execution_count": 6,
   "id": "29531fab",
   "metadata": {},
   "outputs": [],
   "source": [
    "# children_indx = list(set(robot_indx + display_indx))"
   ]
  },
  {
   "cell_type": "markdown",
   "id": "3efdb715",
   "metadata": {},
   "source": [
    "# 2. Extract DFA exponents from EEG"
   ]
  },
  {
   "cell_type": "markdown",
   "id": "d126c731",
   "metadata": {},
   "source": [
    "NOTE: In the DFA_each_channel folder, there are already files with DFA exponents per each EEG channel. \n",
    "\n",
    "\n",
    "Skip the current section"
   ]
  },
  {
   "cell_type": "code",
   "execution_count": 44,
   "id": "0a54cfcf",
   "metadata": {},
   "outputs": [],
   "source": [
    "# #combine the the dictionaries with EEG recordings (the robot group EEG and the display group EEG)\n",
    "# eeg_dict = {**robot_dict, **display_dict}"
   ]
  },
  {
   "cell_type": "code",
   "execution_count": 45,
   "id": "f5e7b7f3",
   "metadata": {},
   "outputs": [],
   "source": [
    "# #set frequency and period for extracting EEG data\n",
    "# sampling_freq = eeg_dict[9].info['sfreq']\n",
    "# start_stop_seconds = np.array([0, 420])\n",
    "# start_sample, stop_sample = (start_stop_seconds * sampling_freq).astype(int)"
   ]
  },
  {
   "cell_type": "code",
   "execution_count": 46,
   "id": "78dcadd7",
   "metadata": {},
   "outputs": [
    {
     "name": "stdout",
     "output_type": "stream",
     "text": [
      "['Fp2', 'Fz', 'Fp1', 'F3', 'F7', 'C3', 'T7', 'P3', 'Pz', 'O1', 'Oz', 'O2', 'P4', 'C4', 'T8', 'F8', 'F4', 'Cz']"
     ]
    }
   ],
   "source": [
    "# # print all of the 18 channels\n",
    "# print(eeg_dict[9].ch_names, end = '')"
   ]
  },
  {
   "cell_type": "code",
   "execution_count": 47,
   "id": "201df53f",
   "metadata": {},
   "outputs": [],
   "source": [
    "# # choose the index of the EEG channel\n",
    "# # change that index to calculate DFA for each channel\n",
    "# channel_index = 0"
   ]
  },
  {
   "cell_type": "code",
   "execution_count": 48,
   "id": "e8d804a2",
   "metadata": {},
   "outputs": [],
   "source": [
    "# # create the dictionary that will contain the EEG data for all of the children and the specific channel\n",
    "# eeg_data = {}\n",
    "\n",
    "\n",
    "# for child in children_indx:\n",
    "#       eeg_data[child] = eeg_dict[child][channel_index, start_sample:stop_sample][0]"
   ]
  },
  {
   "cell_type": "markdown",
   "id": "677d4c1b",
   "metadata": {},
   "source": [
    "extract the DFA exponents and save them in text files"
   ]
  },
  {
   "cell_type": "code",
   "execution_count": 49,
   "id": "967fb74a",
   "metadata": {},
   "outputs": [],
   "source": [
    "# #define the epochs to divide the signal\n",
    "# winSizes = fu.linRangeByStep(10, 420)\n",
    "# revSeg = True\n",
    "# polOrd = 3"
   ]
  },
  {
   "cell_type": "code",
   "execution_count": 50,
   "id": "52308c6c",
   "metadata": {},
   "outputs": [
    {
     "name": "stdout",
     "output_type": "stream",
     "text": [
      "Wall time: 3min 49s\n"
     ]
    }
   ],
   "source": [
    "# %%time\n",
    "# np.random.seed(42)\n",
    "# # create a list with DFA exponents for all of the children and the specific channel\n",
    "\n",
    "# dfa_list = []\n",
    "\n",
    "# for child in children_indx:\n",
    "#     eeg_data[child] = fu.toAggregated(eeg_data[child])\n",
    "#     pydfa = fathon.DFA(eeg_data[child])\n",
    "#     n, F = pydfa.computeFlucVec(winSizes, revSeg=revSeg, polOrd=polOrd)\n",
    "#     H, H_intercept = pydfa.fitFlucVec()\n",
    "    \n",
    "#     dfa_list.append(H)"
   ]
  },
  {
   "cell_type": "code",
   "execution_count": 51,
   "id": "9148a641",
   "metadata": {},
   "outputs": [],
   "source": [
    "# # save the DFA exponents in a text file (for each children and for the specific channel)\n",
    "# with open(f'./Data/{eeg_dict[9].ch_names[channel_index]}_dfa.txt', 'w') as file:\n",
    "#     for exp in dfa_list:\n",
    "#         file.write(f'{exp}\\n')"
   ]
  },
  {
   "cell_type": "markdown",
   "id": "70d7cfde",
   "metadata": {},
   "source": [
    "# 3. Prepare the spectral and spectral + dfa dataframes"
   ]
  },
  {
   "cell_type": "code",
   "execution_count": 84,
   "id": "cda5f3e0",
   "metadata": {},
   "outputs": [],
   "source": [
    "#set the indexes of the subjects\n",
    "\n",
    "robot_indx = [9, 10, 11, 12, 13, 14, 15, 16, 17, 18, 21, 22, 23, 28, 29, 32, 37, 46, 47, 49] #[9, 10, 11, 12, 13, 14, 15, 16, 17, 18, 21, 22, 23, 28, 29, 32, 37, 46, 47, 49]\n",
    "display_indx = [19, 20, 24, 25, 26, 27, 30, 31, 33, 34, 35, 36, 38, 39, 40, 41, 42, 43, 44, 45, 48] #[19, 20, 24, 25, 26, 27, 30, 31, 32, 33, 34, 35, 36, 38, 39, 40, 41, 42, 43, 44, 45, 48]\n",
    "\n",
    "children_indx = list(set(robot_indx + display_indx))"
   ]
  },
  {
   "cell_type": "markdown",
   "id": "cec26e2c",
   "metadata": {},
   "source": [
    "### spectral dataframe"
   ]
  },
  {
   "cell_type": "code",
   "execution_count": 85,
   "id": "e683d261",
   "metadata": {},
   "outputs": [],
   "source": [
    "df = pd.read_csv(r'C:\\Users\\nikol\\home\\master_thesis\\HRI\\Data\\Data for analysis.csv')"
   ]
  },
  {
   "cell_type": "code",
   "execution_count": 86,
   "id": "e4bb60be",
   "metadata": {
    "scrolled": true
   },
   "outputs": [
    {
     "data": {
      "text/html": [
       "<div>\n",
       "<style scoped>\n",
       "    .dataframe tbody tr th:only-of-type {\n",
       "        vertical-align: middle;\n",
       "    }\n",
       "\n",
       "    .dataframe tbody tr th {\n",
       "        vertical-align: top;\n",
       "    }\n",
       "\n",
       "    .dataframe thead th {\n",
       "        text-align: right;\n",
       "    }\n",
       "</style>\n",
       "<table border=\"1\" class=\"dataframe\">\n",
       "  <thead>\n",
       "    <tr style=\"text-align: right;\">\n",
       "      <th></th>\n",
       "      <th>Alpha_Fp2</th>\n",
       "      <th>Alpha_Fz</th>\n",
       "      <th>Alpha_Fp1</th>\n",
       "      <th>Alpha_F3</th>\n",
       "      <th>Alpha_F7</th>\n",
       "      <th>Alpha_C3</th>\n",
       "      <th>Alpha_T7</th>\n",
       "      <th>Alpha_P3</th>\n",
       "      <th>Alpha_Pz</th>\n",
       "      <th>Alpha_O1</th>\n",
       "      <th>...</th>\n",
       "      <th>Theta_Pz</th>\n",
       "      <th>Theta_O1</th>\n",
       "      <th>Theta_Oz</th>\n",
       "      <th>Theta_O2</th>\n",
       "      <th>Theta_P4</th>\n",
       "      <th>Theta_C4</th>\n",
       "      <th>Theta_T8</th>\n",
       "      <th>Theta_F8</th>\n",
       "      <th>Theta_F4</th>\n",
       "      <th>Theta_Cz</th>\n",
       "    </tr>\n",
       "  </thead>\n",
       "  <tbody>\n",
       "    <tr>\n",
       "      <th>0</th>\n",
       "      <td>0.028005</td>\n",
       "      <td>0.025543</td>\n",
       "      <td>0.033725</td>\n",
       "      <td>0.021520</td>\n",
       "      <td>0.031198</td>\n",
       "      <td>0.019469</td>\n",
       "      <td>0.020393</td>\n",
       "      <td>0.049094</td>\n",
       "      <td>0.035638</td>\n",
       "      <td>0.076420</td>\n",
       "      <td>...</td>\n",
       "      <td>0.073656</td>\n",
       "      <td>0.143430</td>\n",
       "      <td>0.079914</td>\n",
       "      <td>0.149000</td>\n",
       "      <td>0.063464</td>\n",
       "      <td>0.028193</td>\n",
       "      <td>0.049522</td>\n",
       "      <td>0.042867</td>\n",
       "      <td>0.041428</td>\n",
       "      <td>0.025362</td>\n",
       "    </tr>\n",
       "    <tr>\n",
       "      <th>1</th>\n",
       "      <td>0.066787</td>\n",
       "      <td>0.020425</td>\n",
       "      <td>0.058658</td>\n",
       "      <td>0.033809</td>\n",
       "      <td>0.037161</td>\n",
       "      <td>0.019144</td>\n",
       "      <td>0.027368</td>\n",
       "      <td>0.017928</td>\n",
       "      <td>0.033277</td>\n",
       "      <td>0.024825</td>\n",
       "      <td>...</td>\n",
       "      <td>0.099069</td>\n",
       "      <td>0.059135</td>\n",
       "      <td>0.079719</td>\n",
       "      <td>0.024085</td>\n",
       "      <td>0.026778</td>\n",
       "      <td>0.031009</td>\n",
       "      <td>0.043702</td>\n",
       "      <td>0.086246</td>\n",
       "      <td>0.042422</td>\n",
       "      <td>0.107690</td>\n",
       "    </tr>\n",
       "    <tr>\n",
       "      <th>2</th>\n",
       "      <td>0.032486</td>\n",
       "      <td>0.008851</td>\n",
       "      <td>0.030163</td>\n",
       "      <td>0.029507</td>\n",
       "      <td>0.019806</td>\n",
       "      <td>0.043389</td>\n",
       "      <td>0.017797</td>\n",
       "      <td>0.022720</td>\n",
       "      <td>0.051034</td>\n",
       "      <td>0.038443</td>\n",
       "      <td>...</td>\n",
       "      <td>0.161600</td>\n",
       "      <td>0.095407</td>\n",
       "      <td>0.090135</td>\n",
       "      <td>0.050079</td>\n",
       "      <td>0.029033</td>\n",
       "      <td>0.031349</td>\n",
       "      <td>0.031688</td>\n",
       "      <td>0.035050</td>\n",
       "      <td>0.034220</td>\n",
       "      <td>0.026061</td>\n",
       "    </tr>\n",
       "    <tr>\n",
       "      <th>3</th>\n",
       "      <td>0.020717</td>\n",
       "      <td>0.014687</td>\n",
       "      <td>0.015166</td>\n",
       "      <td>0.019669</td>\n",
       "      <td>0.016095</td>\n",
       "      <td>0.019574</td>\n",
       "      <td>0.019952</td>\n",
       "      <td>0.047569</td>\n",
       "      <td>0.046287</td>\n",
       "      <td>0.045120</td>\n",
       "      <td>...</td>\n",
       "      <td>0.093576</td>\n",
       "      <td>0.118570</td>\n",
       "      <td>0.114930</td>\n",
       "      <td>0.113910</td>\n",
       "      <td>0.071460</td>\n",
       "      <td>0.042365</td>\n",
       "      <td>0.347680</td>\n",
       "      <td>0.045091</td>\n",
       "      <td>0.038763</td>\n",
       "      <td>0.022510</td>\n",
       "    </tr>\n",
       "    <tr>\n",
       "      <th>4</th>\n",
       "      <td>0.020260</td>\n",
       "      <td>0.011899</td>\n",
       "      <td>0.010162</td>\n",
       "      <td>0.014366</td>\n",
       "      <td>0.014978</td>\n",
       "      <td>0.009105</td>\n",
       "      <td>0.020226</td>\n",
       "      <td>0.024900</td>\n",
       "      <td>0.022950</td>\n",
       "      <td>0.026199</td>\n",
       "      <td>...</td>\n",
       "      <td>0.055291</td>\n",
       "      <td>0.060399</td>\n",
       "      <td>0.067381</td>\n",
       "      <td>0.050769</td>\n",
       "      <td>0.030912</td>\n",
       "      <td>0.019739</td>\n",
       "      <td>0.026145</td>\n",
       "      <td>0.018662</td>\n",
       "      <td>0.022490</td>\n",
       "      <td>0.024398</td>\n",
       "    </tr>\n",
       "  </tbody>\n",
       "</table>\n",
       "<p>5 rows × 54 columns</p>\n",
       "</div>"
      ],
      "text/plain": [
       "   Alpha_Fp2  Alpha_Fz  Alpha_Fp1  Alpha_F3  Alpha_F7  Alpha_C3  Alpha_T7  \\\n",
       "0   0.028005  0.025543   0.033725  0.021520  0.031198  0.019469  0.020393   \n",
       "1   0.066787  0.020425   0.058658  0.033809  0.037161  0.019144  0.027368   \n",
       "2   0.032486  0.008851   0.030163  0.029507  0.019806  0.043389  0.017797   \n",
       "3   0.020717  0.014687   0.015166  0.019669  0.016095  0.019574  0.019952   \n",
       "4   0.020260  0.011899   0.010162  0.014366  0.014978  0.009105  0.020226   \n",
       "\n",
       "   Alpha_P3  Alpha_Pz  Alpha_O1  ...  Theta_Pz  Theta_O1  Theta_Oz  Theta_O2  \\\n",
       "0  0.049094  0.035638  0.076420  ...  0.073656  0.143430  0.079914  0.149000   \n",
       "1  0.017928  0.033277  0.024825  ...  0.099069  0.059135  0.079719  0.024085   \n",
       "2  0.022720  0.051034  0.038443  ...  0.161600  0.095407  0.090135  0.050079   \n",
       "3  0.047569  0.046287  0.045120  ...  0.093576  0.118570  0.114930  0.113910   \n",
       "4  0.024900  0.022950  0.026199  ...  0.055291  0.060399  0.067381  0.050769   \n",
       "\n",
       "   Theta_P4  Theta_C4  Theta_T8  Theta_F8  Theta_F4  Theta_Cz  \n",
       "0  0.063464  0.028193  0.049522  0.042867  0.041428  0.025362  \n",
       "1  0.026778  0.031009  0.043702  0.086246  0.042422  0.107690  \n",
       "2  0.029033  0.031349  0.031688  0.035050  0.034220  0.026061  \n",
       "3  0.071460  0.042365  0.347680  0.045091  0.038763  0.022510  \n",
       "4  0.030912  0.019739  0.026145  0.018662  0.022490  0.024398  \n",
       "\n",
       "[5 rows x 54 columns]"
      ]
     },
     "execution_count": 86,
     "metadata": {},
     "output_type": "execute_result"
    }
   ],
   "source": [
    "df.head()"
   ]
  },
  {
   "cell_type": "code",
   "execution_count": 87,
   "id": "732eaac1",
   "metadata": {},
   "outputs": [],
   "source": [
    "#remove the pilot subjects\n",
    "\n",
    "df = df.drop(list(range(0,8)), axis=0)\n",
    "df.reset_index(inplace = True)\n",
    "df.drop(['index'], inplace = True, axis=1)"
   ]
  },
  {
   "cell_type": "code",
   "execution_count": 88,
   "id": "6091267f",
   "metadata": {},
   "outputs": [],
   "source": [
    "# rename the dataframe\n",
    "X_spec = df"
   ]
  },
  {
   "cell_type": "code",
   "execution_count": 89,
   "id": "88b04057",
   "metadata": {},
   "outputs": [],
   "source": [
    "# fix the indexes\n",
    "X_spec.reset_index(inplace = True)\n",
    "X_spec.drop(['index'], inplace = True, axis=1)"
   ]
  },
  {
   "cell_type": "code",
   "execution_count": 90,
   "id": "feb9cf85",
   "metadata": {},
   "outputs": [
    {
     "data": {
      "text/html": [
       "<div>\n",
       "<style scoped>\n",
       "    .dataframe tbody tr th:only-of-type {\n",
       "        vertical-align: middle;\n",
       "    }\n",
       "\n",
       "    .dataframe tbody tr th {\n",
       "        vertical-align: top;\n",
       "    }\n",
       "\n",
       "    .dataframe thead th {\n",
       "        text-align: right;\n",
       "    }\n",
       "</style>\n",
       "<table border=\"1\" class=\"dataframe\">\n",
       "  <thead>\n",
       "    <tr style=\"text-align: right;\">\n",
       "      <th></th>\n",
       "      <th>Alpha_Fp2</th>\n",
       "      <th>Alpha_Fz</th>\n",
       "      <th>Alpha_Fp1</th>\n",
       "      <th>Alpha_F3</th>\n",
       "      <th>Alpha_F7</th>\n",
       "      <th>Alpha_C3</th>\n",
       "      <th>Alpha_T7</th>\n",
       "      <th>Alpha_P3</th>\n",
       "      <th>Alpha_Pz</th>\n",
       "      <th>Alpha_O1</th>\n",
       "      <th>...</th>\n",
       "      <th>Theta_Pz</th>\n",
       "      <th>Theta_O1</th>\n",
       "      <th>Theta_Oz</th>\n",
       "      <th>Theta_O2</th>\n",
       "      <th>Theta_P4</th>\n",
       "      <th>Theta_C4</th>\n",
       "      <th>Theta_T8</th>\n",
       "      <th>Theta_F8</th>\n",
       "      <th>Theta_F4</th>\n",
       "      <th>Theta_Cz</th>\n",
       "    </tr>\n",
       "  </thead>\n",
       "  <tbody>\n",
       "    <tr>\n",
       "      <th>0</th>\n",
       "      <td>0.017707</td>\n",
       "      <td>0.021770</td>\n",
       "      <td>0.014258</td>\n",
       "      <td>0.019129</td>\n",
       "      <td>0.014458</td>\n",
       "      <td>0.020431</td>\n",
       "      <td>0.022002</td>\n",
       "      <td>0.029920</td>\n",
       "      <td>0.019599</td>\n",
       "      <td>0.029561</td>\n",
       "      <td>...</td>\n",
       "      <td>0.058258</td>\n",
       "      <td>0.079902</td>\n",
       "      <td>0.122430</td>\n",
       "      <td>0.069646</td>\n",
       "      <td>0.082696</td>\n",
       "      <td>0.030301</td>\n",
       "      <td>0.033751</td>\n",
       "      <td>0.054505</td>\n",
       "      <td>0.043710</td>\n",
       "      <td>0.060896</td>\n",
       "    </tr>\n",
       "    <tr>\n",
       "      <th>1</th>\n",
       "      <td>0.049929</td>\n",
       "      <td>0.014687</td>\n",
       "      <td>0.011599</td>\n",
       "      <td>0.029720</td>\n",
       "      <td>0.026043</td>\n",
       "      <td>0.050137</td>\n",
       "      <td>0.032211</td>\n",
       "      <td>0.044511</td>\n",
       "      <td>0.042806</td>\n",
       "      <td>0.054709</td>\n",
       "      <td>...</td>\n",
       "      <td>0.099537</td>\n",
       "      <td>0.098873</td>\n",
       "      <td>0.076274</td>\n",
       "      <td>0.045716</td>\n",
       "      <td>0.030713</td>\n",
       "      <td>0.029602</td>\n",
       "      <td>0.073933</td>\n",
       "      <td>0.044304</td>\n",
       "      <td>0.029057</td>\n",
       "      <td>0.022627</td>\n",
       "    </tr>\n",
       "    <tr>\n",
       "      <th>2</th>\n",
       "      <td>0.024215</td>\n",
       "      <td>0.025334</td>\n",
       "      <td>0.032409</td>\n",
       "      <td>0.034089</td>\n",
       "      <td>0.032360</td>\n",
       "      <td>0.025206</td>\n",
       "      <td>0.027160</td>\n",
       "      <td>0.032523</td>\n",
       "      <td>0.066768</td>\n",
       "      <td>0.074313</td>\n",
       "      <td>...</td>\n",
       "      <td>0.133200</td>\n",
       "      <td>0.084059</td>\n",
       "      <td>0.096908</td>\n",
       "      <td>0.072529</td>\n",
       "      <td>0.057626</td>\n",
       "      <td>0.066277</td>\n",
       "      <td>0.037352</td>\n",
       "      <td>0.048213</td>\n",
       "      <td>0.049935</td>\n",
       "      <td>0.132430</td>\n",
       "    </tr>\n",
       "    <tr>\n",
       "      <th>3</th>\n",
       "      <td>0.010272</td>\n",
       "      <td>0.005244</td>\n",
       "      <td>0.038857</td>\n",
       "      <td>0.006859</td>\n",
       "      <td>0.009097</td>\n",
       "      <td>0.018431</td>\n",
       "      <td>0.005609</td>\n",
       "      <td>0.012296</td>\n",
       "      <td>0.021355</td>\n",
       "      <td>0.038521</td>\n",
       "      <td>...</td>\n",
       "      <td>0.072831</td>\n",
       "      <td>0.129270</td>\n",
       "      <td>0.069882</td>\n",
       "      <td>0.112520</td>\n",
       "      <td>0.039772</td>\n",
       "      <td>0.024029</td>\n",
       "      <td>0.044573</td>\n",
       "      <td>0.031170</td>\n",
       "      <td>0.043586</td>\n",
       "      <td>0.039038</td>\n",
       "    </tr>\n",
       "    <tr>\n",
       "      <th>4</th>\n",
       "      <td>0.038488</td>\n",
       "      <td>0.008678</td>\n",
       "      <td>0.025392</td>\n",
       "      <td>0.014148</td>\n",
       "      <td>0.021428</td>\n",
       "      <td>0.015591</td>\n",
       "      <td>0.011258</td>\n",
       "      <td>0.010438</td>\n",
       "      <td>0.016658</td>\n",
       "      <td>0.018522</td>\n",
       "      <td>...</td>\n",
       "      <td>0.058125</td>\n",
       "      <td>0.065831</td>\n",
       "      <td>0.067317</td>\n",
       "      <td>0.055913</td>\n",
       "      <td>0.027154</td>\n",
       "      <td>0.025175</td>\n",
       "      <td>0.034657</td>\n",
       "      <td>0.078855</td>\n",
       "      <td>0.029020</td>\n",
       "      <td>0.022509</td>\n",
       "    </tr>\n",
       "  </tbody>\n",
       "</table>\n",
       "<p>5 rows × 54 columns</p>\n",
       "</div>"
      ],
      "text/plain": [
       "   Alpha_Fp2  Alpha_Fz  Alpha_Fp1  Alpha_F3  Alpha_F7  Alpha_C3  Alpha_T7  \\\n",
       "0   0.017707  0.021770   0.014258  0.019129  0.014458  0.020431  0.022002   \n",
       "1   0.049929  0.014687   0.011599  0.029720  0.026043  0.050137  0.032211   \n",
       "2   0.024215  0.025334   0.032409  0.034089  0.032360  0.025206  0.027160   \n",
       "3   0.010272  0.005244   0.038857  0.006859  0.009097  0.018431  0.005609   \n",
       "4   0.038488  0.008678   0.025392  0.014148  0.021428  0.015591  0.011258   \n",
       "\n",
       "   Alpha_P3  Alpha_Pz  Alpha_O1  ...  Theta_Pz  Theta_O1  Theta_Oz  Theta_O2  \\\n",
       "0  0.029920  0.019599  0.029561  ...  0.058258  0.079902  0.122430  0.069646   \n",
       "1  0.044511  0.042806  0.054709  ...  0.099537  0.098873  0.076274  0.045716   \n",
       "2  0.032523  0.066768  0.074313  ...  0.133200  0.084059  0.096908  0.072529   \n",
       "3  0.012296  0.021355  0.038521  ...  0.072831  0.129270  0.069882  0.112520   \n",
       "4  0.010438  0.016658  0.018522  ...  0.058125  0.065831  0.067317  0.055913   \n",
       "\n",
       "   Theta_P4  Theta_C4  Theta_T8  Theta_F8  Theta_F4  Theta_Cz  \n",
       "0  0.082696  0.030301  0.033751  0.054505  0.043710  0.060896  \n",
       "1  0.030713  0.029602  0.073933  0.044304  0.029057  0.022627  \n",
       "2  0.057626  0.066277  0.037352  0.048213  0.049935  0.132430  \n",
       "3  0.039772  0.024029  0.044573  0.031170  0.043586  0.039038  \n",
       "4  0.027154  0.025175  0.034657  0.078855  0.029020  0.022509  \n",
       "\n",
       "[5 rows x 54 columns]"
      ]
     },
     "execution_count": 90,
     "metadata": {},
     "output_type": "execute_result"
    }
   ],
   "source": [
    "X_spec.head()"
   ]
  },
  {
   "cell_type": "markdown",
   "id": "15fd71fb",
   "metadata": {},
   "source": [
    "### prepare dfa data"
   ]
  },
  {
   "cell_type": "code",
   "execution_count": 91,
   "id": "529e9c3b",
   "metadata": {},
   "outputs": [],
   "source": [
    "# create a dictionary that will contain the DFA exponents\n",
    "dfa_data = dict((ch, []) for ch in robot_dict[9].ch_names)"
   ]
  },
  {
   "cell_type": "code",
   "execution_count": 92,
   "id": "ee489a0f",
   "metadata": {},
   "outputs": [],
   "source": [
    "# read each of the DFA text files\n",
    "for ch in robot_dict[9].ch_names:\n",
    "\n",
    "    data =  open(f'./Data/DFA_each_channel/{ch}_dfa.txt', 'r')\n",
    "\n",
    "    dataString = data.read()\n",
    "    text_dfa = dataString.split('\\n')\n",
    "                 \n",
    "    dfa_data[ch].append(text_dfa)\n",
    "\n",
    "    "
   ]
  },
  {
   "cell_type": "code",
   "execution_count": 93,
   "id": "7ee9d5c0",
   "metadata": {},
   "outputs": [],
   "source": [
    "for ch in robot_dict[9].ch_names:\n",
    "    dfa_data[ch] = dfa_data[ch][0]"
   ]
  },
  {
   "cell_type": "code",
   "execution_count": 94,
   "id": "087f919e",
   "metadata": {
    "scrolled": true
   },
   "outputs": [],
   "source": [
    "dfa_data = pd.DataFrame(dfa_data)"
   ]
  },
  {
   "cell_type": "code",
   "execution_count": 95,
   "id": "1acbe53c",
   "metadata": {},
   "outputs": [],
   "source": [
    "data.close()"
   ]
  },
  {
   "cell_type": "code",
   "execution_count": 96,
   "id": "6b78a28b",
   "metadata": {},
   "outputs": [],
   "source": [
    "#transform the DFA features into floats\n",
    "for ch in robot_dict[9].ch_names:\n",
    "    dfa_data[ch] = dfa_data[ch].astype(float)"
   ]
  },
  {
   "cell_type": "markdown",
   "id": "eb834648",
   "metadata": {},
   "source": [
    "##### remove the not-tested subjects"
   ]
  },
  {
   "cell_type": "code",
   "execution_count": 97,
   "id": "2d42af5b",
   "metadata": {},
   "outputs": [
    {
     "name": "stdout",
     "output_type": "stream",
     "text": [
      "[0, 9, 36, 37, 39, 33, 34, 35, 38]\n"
     ]
    }
   ],
   "source": [
    "# get the indexes of subjects to remove\n",
    "remove_list = [9, 18, 45, 46, 48, 42, 43, 44, 47]\n",
    "remove_index = []\n",
    "\n",
    "\n",
    "for num in remove_list:\n",
    "    remove_index.append(children_indx.index(num))\n",
    "\n",
    "print(remove_index)"
   ]
  },
  {
   "cell_type": "markdown",
   "id": "06749cc4",
   "metadata": {},
   "source": [
    "##### remove not-tested subjects from spectral + dfa data"
   ]
  },
  {
   "cell_type": "code",
   "execution_count": 98,
   "id": "e7f9b734",
   "metadata": {},
   "outputs": [],
   "source": [
    "dfa_data.drop(remove_index, axis=0, inplace=True)"
   ]
  },
  {
   "cell_type": "code",
   "execution_count": 99,
   "id": "b560f258",
   "metadata": {},
   "outputs": [],
   "source": [
    "# fix the indexes\n",
    "dfa_data.reset_index(inplace = True)\n",
    "dfa_data.drop(['index'], inplace = True, axis=1)"
   ]
  },
  {
   "cell_type": "markdown",
   "id": "58f5e5c7",
   "metadata": {},
   "source": [
    "###### remove not-tested subjects from spectral data"
   ]
  },
  {
   "cell_type": "code",
   "execution_count": 100,
   "id": "2a466d94",
   "metadata": {},
   "outputs": [],
   "source": [
    "X_spec.drop(remove_index, axis=0, inplace=True)"
   ]
  },
  {
   "cell_type": "code",
   "execution_count": 101,
   "id": "429ea5bd",
   "metadata": {},
   "outputs": [],
   "source": [
    "# fix the indexes\n",
    "X_spec.reset_index(inplace = True)\n",
    "X_spec.drop(['index'], inplace = True, axis=1)"
   ]
  },
  {
   "cell_type": "markdown",
   "id": "1fcbb927",
   "metadata": {},
   "source": [
    "### prepare target data"
   ]
  },
  {
   "cell_type": "code",
   "execution_count": 102,
   "id": "b948143b",
   "metadata": {},
   "outputs": [],
   "source": [
    "target_data = pd.read_csv(r'C:\\Users\\nikol\\home\\master_thesis\\HRI\\Data\\Target data.csv')"
   ]
  },
  {
   "cell_type": "code",
   "execution_count": 103,
   "id": "f4750583",
   "metadata": {},
   "outputs": [],
   "source": [
    "average_score = np.mean(target_data['TOTAL CORRECT'])\n",
    "\n",
    "def classification_transf(row):\n",
    "    if row['TOTAL CORRECT'] > average_score:\n",
    "        return 1\n",
    "    elif row['TOTAL CORRECT'] < average_score:\n",
    "        return 0\n",
    "\n",
    "target_data['Successfull'] = target_data.apply(classification_transf, axis=1)\n",
    "\n",
    "y = target_data['Successfull']"
   ]
  },
  {
   "cell_type": "code",
   "execution_count": 104,
   "id": "05fae8b7",
   "metadata": {},
   "outputs": [
    {
     "data": {
      "text/plain": [
       "Successfull\n",
       "0              18\n",
       "1              14\n",
       "dtype: int64"
      ]
     },
     "execution_count": 104,
     "metadata": {},
     "output_type": "execute_result"
    }
   ],
   "source": [
    "pd.DataFrame(y).value_counts()"
   ]
  },
  {
   "cell_type": "code",
   "execution_count": 105,
   "id": "03e63fc3",
   "metadata": {},
   "outputs": [
    {
     "name": "stdout",
     "output_type": "stream",
     "text": [
      "Percentage of the children in class \"1\": 43.75%\n",
      "Percentage of the children in class \"0\": 56.25%\n"
     ]
    }
   ],
   "source": [
    "print(f'Percentage of the children in class \"1\": {(14/32) * 100}%') \n",
    "print(f'Percentage of the children in class \"0\": {(18/32) * 100 }%') "
   ]
  },
  {
   "cell_type": "code",
   "execution_count": 106,
   "id": "470f4a7f",
   "metadata": {},
   "outputs": [],
   "source": [
    "y = y.values.reshape(-1,1)"
   ]
  },
  {
   "cell_type": "markdown",
   "id": "86450f94",
   "metadata": {},
   "source": [
    "# 4. EDA"
   ]
  },
  {
   "cell_type": "code",
   "execution_count": 107,
   "id": "9ae9fcc4",
   "metadata": {},
   "outputs": [],
   "source": [
    "spec_viz = df.join(pd.Series(np.squeeze(y)).rename('Success'))\n",
    "dfa_viz = dfa_data.join(pd.Series(np.squeeze(y)).rename('Success'))"
   ]
  },
  {
   "cell_type": "code",
   "execution_count": 108,
   "id": "5ecbff5d",
   "metadata": {},
   "outputs": [
    {
     "data": {
      "text/plain": [
       "Text(0.5, 1.0, 'Good learners')"
      ]
     },
     "execution_count": 108,
     "metadata": {},
     "output_type": "execute_result"
    },
    {
     "data": {
      "image/png": "[encoded data removed]",
      "text/plain": [
       "<Figure size 1080x360 with 2 Axes>"
      ]
     },
     "metadata": {
      "needs_background": "light"
     },
     "output_type": "display_data"
    }
   ],
   "source": [
    "fig, axs = plt.subplots(1, 2, figsize=(15,5))\n",
    "fig.tight_layout(pad=1, w_pad=2, h_pad=1.0)\n",
    "\n",
    "\n",
    "dfa_viz[dfa_viz['Success']== 0].iloc[:,:-1].boxplot(ax=axs.ravel()[0])\n",
    "dfa_viz[dfa_viz['Success']== 1].iloc[:,:-1].boxplot(ax=axs.ravel()[1])\n",
    "\n",
    "axs.ravel()[0].set_title('Bad learners')\n",
    "axs.ravel()[1].set_title('Good learners')"
   ]
  },
  {
   "cell_type": "code",
   "execution_count": 109,
   "id": "caf505e2",
   "metadata": {},
   "outputs": [
    {
     "data": {
      "image/png": "[encoded data removed]",
      "text/plain": [
       "<Figure size 1440x1080 with 18 Axes>"
      ]
     },
     "metadata": {
      "needs_background": "light"
     },
     "output_type": "display_data"
    }
   ],
   "source": [
    "\n",
    "np.random.seed(42)\n",
    "fig, axs = plt.subplots(6, 3, figsize=(20,15))\n",
    "fig.tight_layout(pad=1, w_pad=2, h_pad=1.0)\n",
    "dfa_ch = robot_dict[9].ch_names\n",
    "\n",
    "for ch, ax in zip(dfa_ch, axs.ravel()):\n",
    "    ax.boxplot([dfa_viz[dfa_viz['Success']== 0].iloc[:,:-1][f'{ch}'],dfa_viz[dfa_viz['Success']== 1].iloc[:,:-1][f'{ch}']])\n",
    "    ax.set_xticklabels(['Bad learners', 'Good learners'])\n",
    "    ax.set_title(f'{ch}')\n",
    "    ax.grid(visible=True)"
   ]
  },
  {
   "cell_type": "markdown",
   "id": "60516127",
   "metadata": {},
   "source": [
    "# 5. Feature Selection"
   ]
  },
  {
   "cell_type": "markdown",
   "id": "e01a8e5d",
   "metadata": {},
   "source": [
    "#### minimum Redundancy - Maximum Relevance"
   ]
  },
  {
   "cell_type": "markdown",
   "id": "e9ed22e0",
   "metadata": {},
   "source": [
    "spectral data"
   ]
  },
  {
   "cell_type": "code",
   "execution_count": 110,
   "id": "6f85e271",
   "metadata": {},
   "outputs": [
    {
     "name": "stderr",
     "output_type": "stream",
     "text": [
      "100%|████████████████████████████████████████████████████████████████████████████████████| 5/5 [00:00<00:00, 16.15it/s]\n"
     ]
    }
   ],
   "source": [
    "selected_features_spec = mrmr_classif(X=X_spec, y=y, K=5)"
   ]
  },
  {
   "cell_type": "code",
   "execution_count": 111,
   "id": "9c0e35d8",
   "metadata": {},
   "outputs": [
    {
     "data": {
      "text/plain": [
       "['Alpha_T7', 'Beta_Cz', 'Beta_Fz', 'Beta_O1', 'Theta_T7']"
      ]
     },
     "execution_count": 111,
     "metadata": {},
     "output_type": "execute_result"
    }
   ],
   "source": [
    "selected_features_spec"
   ]
  },
  {
   "cell_type": "code",
   "execution_count": 112,
   "id": "f2f1766a",
   "metadata": {},
   "outputs": [],
   "source": [
    "X_spec = X_spec[selected_features_spec]"
   ]
  },
  {
   "cell_type": "code",
   "execution_count": 113,
   "id": "8df3aa51",
   "metadata": {},
   "outputs": [
    {
     "data": {
      "text/plain": [
       "(32, 5)"
      ]
     },
     "execution_count": 113,
     "metadata": {},
     "output_type": "execute_result"
    }
   ],
   "source": [
    "X_spec.shape"
   ]
  },
  {
   "cell_type": "markdown",
   "id": "7360ea76",
   "metadata": {},
   "source": [
    "dfa data"
   ]
  },
  {
   "cell_type": "code",
   "execution_count": 114,
   "id": "9d7e4f3a",
   "metadata": {},
   "outputs": [
    {
     "name": "stderr",
     "output_type": "stream",
     "text": [
      "100%|████████████████████████████████████████████████████████████████████████████████████| 3/3 [00:00<00:00, 25.00it/s]\n"
     ]
    }
   ],
   "source": [
    "selected_features_dfa = mrmr_classif(X=dfa_data, y=y, K=3)"
   ]
  },
  {
   "cell_type": "code",
   "execution_count": 115,
   "id": "61c1312b",
   "metadata": {},
   "outputs": [
    {
     "data": {
      "text/plain": [
       "['T7', 'O1', 'C4']"
      ]
     },
     "execution_count": 115,
     "metadata": {},
     "output_type": "execute_result"
    }
   ],
   "source": [
    "selected_features_dfa"
   ]
  },
  {
   "cell_type": "code",
   "execution_count": 116,
   "id": "122d71db",
   "metadata": {},
   "outputs": [],
   "source": [
    "dfa_data = dfa_data[selected_features_dfa]"
   ]
  },
  {
   "cell_type": "code",
   "execution_count": 117,
   "id": "fc217f00",
   "metadata": {},
   "outputs": [
    {
     "data": {
      "text/plain": [
       "(32, 3)"
      ]
     },
     "execution_count": 117,
     "metadata": {},
     "output_type": "execute_result"
    }
   ],
   "source": [
    "dfa_data.shape"
   ]
  },
  {
   "cell_type": "markdown",
   "id": "ff964171",
   "metadata": {},
   "source": [
    "# 7. Develop the models"
   ]
  },
  {
   "cell_type": "code",
   "execution_count": 118,
   "id": "dc3db68b",
   "metadata": {},
   "outputs": [],
   "source": [
    "param_grid_svc = { 'C':[10.0, 100.0,1000.0, 10000.0, 100000.0],\n",
    "              'kernel':['rbf','poly'],\n",
    "              'degree':[1,2,3,4],\n",
    "              'gamma': [10.0, 100.0,300]}\n",
    "\n",
    "\n",
    "leaf_size = list(range(1,50))\n",
    "n_neighbors = list(range(1,30))\n",
    "p=[1,2]\n",
    "\n",
    "param_grid_knn = dict(leaf_size=leaf_size, n_neighbors=n_neighbors, p=p)\n"
   ]
  },
  {
   "cell_type": "markdown",
   "id": "b6524da3",
   "metadata": {},
   "source": [
    "## spectral data"
   ]
  },
  {
   "cell_type": "markdown",
   "id": "00948bb1",
   "metadata": {},
   "source": [
    "#### SVM"
   ]
  },
  {
   "cell_type": "code",
   "execution_count": 119,
   "id": "15ca5c0c",
   "metadata": {},
   "outputs": [
    {
     "data": {
      "text/plain": [
       "GridSearchCV(cv=LeaveOneOut(), estimator=SVC(random_state=42), n_jobs=-1,\n",
       "             param_grid={'C': [10.0, 100.0, 1000.0, 10000.0, 100000.0],\n",
       "                         'degree': [1, 2, 3, 4], 'gamma': [10.0, 100.0, 300],\n",
       "                         'kernel': ['rbf', 'poly']})"
      ]
     },
     "execution_count": 119,
     "metadata": {},
     "output_type": "execute_result"
    }
   ],
   "source": [
    "random.seed(42)\n",
    "svc_spec = GridSearchCV(SVC(random_state=42),\n",
    "                                 param_grid_svc,\n",
    "                                 cv=LeaveOneOut(), \n",
    "                                 n_jobs=-1)\n",
    "svc_spec.fit(X_spec, y)"
   ]
  },
  {
   "cell_type": "code",
   "execution_count": 120,
   "id": "6a44cfeb",
   "metadata": {},
   "outputs": [
    {
     "data": {
      "text/plain": [
       "{'C': 100.0, 'degree': 1, 'gamma': 300, 'kernel': 'rbf'}"
      ]
     },
     "execution_count": 120,
     "metadata": {},
     "output_type": "execute_result"
    }
   ],
   "source": [
    "svc_spec.best_params_"
   ]
  },
  {
   "cell_type": "markdown",
   "id": "b31a8a0a",
   "metadata": {},
   "source": [
    "#### KNN"
   ]
  },
  {
   "cell_type": "code",
   "execution_count": 121,
   "id": "ff0e0a18",
   "metadata": {},
   "outputs": [
    {
     "data": {
      "text/plain": [
       "GridSearchCV(cv=LeaveOneOut(), estimator=KNeighborsClassifier(), n_jobs=-1,\n",
       "             param_grid={'leaf_size': [1, 2, 3, 4, 5, 6, 7, 8, 9, 10, 11, 12,\n",
       "                                       13, 14, 15, 16, 17, 18, 19, 20, 21, 22,\n",
       "                                       23, 24, 25, 26, 27, 28, 29, 30, ...],\n",
       "                         'n_neighbors': [1, 2, 3, 4, 5, 6, 7, 8, 9, 10, 11, 12,\n",
       "                                         13, 14, 15, 16, 17, 18, 19, 20, 21, 22,\n",
       "                                         23, 24, 25, 26, 27, 28, 29],\n",
       "                         'p': [1, 2]})"
      ]
     },
     "execution_count": 121,
     "metadata": {},
     "output_type": "execute_result"
    }
   ],
   "source": [
    "knn_spec = GridSearchCV(KNeighborsClassifier(),\n",
    "                                 param_grid_knn,\n",
    "                                 cv=LeaveOneOut(), \n",
    "                                 n_jobs=-1)\n",
    "knn_spec.fit(X_spec, y)"
   ]
  },
  {
   "cell_type": "code",
   "execution_count": 122,
   "id": "76ca11fa",
   "metadata": {},
   "outputs": [
    {
     "data": {
      "text/plain": [
       "{'leaf_size': 1, 'n_neighbors': 9, 'p': 2}"
      ]
     },
     "execution_count": 122,
     "metadata": {},
     "output_type": "execute_result"
    }
   ],
   "source": [
    "knn_spec.best_params_"
   ]
  },
  {
   "cell_type": "markdown",
   "id": "990aed88",
   "metadata": {},
   "source": [
    "## spectral + DFA"
   ]
  },
  {
   "cell_type": "code",
   "execution_count": 123,
   "id": "7d7d442a",
   "metadata": {},
   "outputs": [],
   "source": [
    "X_dfa = df.join(dfa_data)"
   ]
  },
  {
   "cell_type": "markdown",
   "id": "fabf54c8",
   "metadata": {},
   "source": [
    "#### SVM"
   ]
  },
  {
   "cell_type": "code",
   "execution_count": 124,
   "id": "d044adb7",
   "metadata": {},
   "outputs": [
    {
     "data": {
      "text/plain": [
       "GridSearchCV(cv=LeaveOneOut(), estimator=SVC(random_state=42), n_jobs=-1,\n",
       "             param_grid={'C': [10.0, 100.0, 1000.0, 10000.0, 100000.0],\n",
       "                         'degree': [1, 2, 3, 4], 'gamma': [10.0, 100.0, 300],\n",
       "                         'kernel': ['rbf', 'poly']})"
      ]
     },
     "execution_count": 124,
     "metadata": {},
     "output_type": "execute_result"
    }
   ],
   "source": [
    "svc_dfa = GridSearchCV(SVC(random_state=42),\n",
    "                                 param_grid_svc,\n",
    "                                 cv=LeaveOneOut(), \n",
    "                                 n_jobs=-1)\n",
    "svc_dfa.fit(X_dfa, y)"
   ]
  },
  {
   "cell_type": "code",
   "execution_count": 125,
   "id": "6846c94d",
   "metadata": {},
   "outputs": [
    {
     "data": {
      "text/plain": [
       "{'C': 10.0, 'degree': 1, 'gamma': 10.0, 'kernel': 'poly'}"
      ]
     },
     "execution_count": 125,
     "metadata": {},
     "output_type": "execute_result"
    }
   ],
   "source": [
    "svc_dfa.best_params_"
   ]
  },
  {
   "cell_type": "markdown",
   "id": "21e26b23",
   "metadata": {},
   "source": [
    "#### KNN"
   ]
  },
  {
   "cell_type": "code",
   "execution_count": 126,
   "id": "b76f5720",
   "metadata": {},
   "outputs": [
    {
     "data": {
      "text/plain": [
       "GridSearchCV(cv=LeaveOneOut(), estimator=KNeighborsClassifier(), n_jobs=-1,\n",
       "             param_grid={'leaf_size': [1, 2, 3, 4, 5, 6, 7, 8, 9, 10, 11, 12,\n",
       "                                       13, 14, 15, 16, 17, 18, 19, 20, 21, 22,\n",
       "                                       23, 24, 25, 26, 27, 28, 29, 30, ...],\n",
       "                         'n_neighbors': [1, 2, 3, 4, 5, 6, 7, 8, 9, 10, 11, 12,\n",
       "                                         13, 14, 15, 16, 17, 18, 19, 20, 21, 22,\n",
       "                                         23, 24, 25, 26, 27, 28, 29],\n",
       "                         'p': [1, 2]})"
      ]
     },
     "execution_count": 126,
     "metadata": {},
     "output_type": "execute_result"
    }
   ],
   "source": [
    "knn_dfa = GridSearchCV(KNeighborsClassifier(),\n",
    "                                 param_grid_knn,\n",
    "                                 cv=LeaveOneOut(), \n",
    "                                 n_jobs=-1)\n",
    "knn_dfa.fit(X_dfa, y)"
   ]
  },
  {
   "cell_type": "code",
   "execution_count": 127,
   "id": "afe60134",
   "metadata": {},
   "outputs": [
    {
     "data": {
      "text/plain": [
       "{'leaf_size': 1, 'n_neighbors': 4, 'p': 1}"
      ]
     },
     "execution_count": 127,
     "metadata": {},
     "output_type": "execute_result"
    }
   ],
   "source": [
    "knn_dfa.best_params_"
   ]
  },
  {
   "cell_type": "markdown",
   "id": "cecaff7d",
   "metadata": {},
   "source": [
    "# 8. Evaluate the models"
   ]
  },
  {
   "cell_type": "code",
   "execution_count": 128,
   "id": "dcae67a0",
   "metadata": {},
   "outputs": [],
   "source": [
    "# define a function that compares the LOO perfromance of a set of predetrmined models \n",
    "def cv_comparison(models, X, y):\n",
    "    # Initiate a DataFrame for the averages and a list for all measures\n",
    "    loo = LeaveOneOut()\n",
    "    cv_metrics = pd.DataFrame()\n",
    "    y_true = []\n",
    "    y_pred = []\n",
    "    random.seed(42)\n",
    "    name = ['Spectral Features Model', 'KNN', 'Zero']\n",
    "\n",
    "    for model in models:\n",
    "    \n",
    "        for i, j in loo.split(X):\n",
    "            X_train, X_test = X.iloc[i,:], X.iloc[j, :]\n",
    "            y_train, y_test = y[i], y[j]\n",
    "            model.fit(X_train, y_train)\n",
    "            y_hat = model.predict(X_test)\n",
    "            y_true.append(y_test[0])\n",
    "            y_pred.append(y_hat[0])\n",
    "\n",
    "            accuracy = accuracy_score(y_true, y_pred)\n",
    "            recall = recall_score(y_true, y_pred)\n",
    "            precision = precision_score(y_true, y_pred)\n",
    "            f1 = f1_score(y_true, y_pred)\n",
    "\n",
    "            cv_metrics[model] = [accuracy,f1,recall, precision]\n",
    "\n",
    "    cv_metrics.index = ['Accuracy','F1-score','Recall', 'Precision']\n",
    "    return cv_metrics, recall, precision, f1, accuracy"
   ]
  },
  {
   "cell_type": "markdown",
   "id": "85d24f65",
   "metadata": {},
   "source": [
    "## spectral"
   ]
  },
  {
   "cell_type": "code",
   "execution_count": 129,
   "id": "6b47a498",
   "metadata": {},
   "outputs": [
    {
     "name": "stdout",
     "output_type": "stream",
     "text": [
      "SVM hyperparameters: {'C': 100.0, 'degree': 1, 'gamma': 300, 'kernel': 'rbf'}\n",
      "KNN hyperparameters: {'leaf_size': 1, 'n_neighbors': 9, 'p': 2}\n"
     ]
    }
   ],
   "source": [
    "print(f'SVM hyperparameters: {svc_spec.best_params_}')\n",
    "print(f'KNN hyperparameters: {knn_spec.best_params_}')"
   ]
  },
  {
   "cell_type": "code",
   "execution_count": 130,
   "id": "15d7f3d9",
   "metadata": {},
   "outputs": [],
   "source": [
    "svm_spec_model = SVC(C=100,\n",
    "                    degree=1,\n",
    "                    gamma=300,\n",
    "                    kernel='rbf', random_state=42)\n",
    "\n",
    "knn_spec_model = KNeighborsClassifier(leaf_size=1,\n",
    "                                     n_neighbors = 9,\n",
    "                                     p=2)\n",
    "\n",
    "zeroR_spec = DummyClassifier(strategy='most_frequent')\n",
    "\n",
    "models = [svm_spec_model, knn_spec_model, zeroR_spec]"
   ]
  },
  {
   "cell_type": "code",
   "execution_count": 131,
   "id": "f652f266",
   "metadata": {},
   "outputs": [],
   "source": [
    "comp_spec, recall, precision, f1, accuracy = cv_comparison(models, X_spec, y)"
   ]
  },
  {
   "cell_type": "code",
   "execution_count": 132,
   "id": "5acc16e3",
   "metadata": {},
   "outputs": [
    {
     "data": {
      "text/html": [
       "<div>\n",
       "<style scoped>\n",
       "    .dataframe tbody tr th:only-of-type {\n",
       "        vertical-align: middle;\n",
       "    }\n",
       "\n",
       "    .dataframe tbody tr th {\n",
       "        vertical-align: top;\n",
       "    }\n",
       "\n",
       "    .dataframe thead th {\n",
       "        text-align: right;\n",
       "    }\n",
       "</style>\n",
       "<table border=\"1\" class=\"dataframe\">\n",
       "  <thead>\n",
       "    <tr style=\"text-align: right;\">\n",
       "      <th></th>\n",
       "      <th>SVC(C=100, degree=1, gamma=300, random_state=42)</th>\n",
       "      <th>KNeighborsClassifier(leaf_size=1, n_neighbors=9)</th>\n",
       "      <th>DummyClassifier(strategy='most_frequent')</th>\n",
       "    </tr>\n",
       "  </thead>\n",
       "  <tbody>\n",
       "    <tr>\n",
       "      <th>Accuracy</th>\n",
       "      <td>0.843750</td>\n",
       "      <td>0.765625</td>\n",
       "      <td>0.697917</td>\n",
       "    </tr>\n",
       "    <tr>\n",
       "      <th>F1-score</th>\n",
       "      <td>0.800000</td>\n",
       "      <td>0.736842</td>\n",
       "      <td>0.591549</td>\n",
       "    </tr>\n",
       "    <tr>\n",
       "      <th>Recall</th>\n",
       "      <td>0.714286</td>\n",
       "      <td>0.750000</td>\n",
       "      <td>0.500000</td>\n",
       "    </tr>\n",
       "    <tr>\n",
       "      <th>Precision</th>\n",
       "      <td>0.909091</td>\n",
       "      <td>0.724138</td>\n",
       "      <td>0.724138</td>\n",
       "    </tr>\n",
       "  </tbody>\n",
       "</table>\n",
       "</div>"
      ],
      "text/plain": [
       "           SVC(C=100, degree=1, gamma=300, random_state=42)  \\\n",
       "Accuracy                                           0.843750   \n",
       "F1-score                                           0.800000   \n",
       "Recall                                             0.714286   \n",
       "Precision                                          0.909091   \n",
       "\n",
       "           KNeighborsClassifier(leaf_size=1, n_neighbors=9)  \\\n",
       "Accuracy                                           0.765625   \n",
       "F1-score                                           0.736842   \n",
       "Recall                                             0.750000   \n",
       "Precision                                          0.724138   \n",
       "\n",
       "           DummyClassifier(strategy='most_frequent')  \n",
       "Accuracy                                    0.697917  \n",
       "F1-score                                    0.591549  \n",
       "Recall                                      0.500000  \n",
       "Precision                                   0.724138  "
      ]
     },
     "execution_count": 132,
     "metadata": {},
     "output_type": "execute_result"
    }
   ],
   "source": [
    "comp_spec"
   ]
  },
  {
   "cell_type": "markdown",
   "id": "bfd7137b",
   "metadata": {},
   "source": [
    "### DFA + Spectral"
   ]
  },
  {
   "cell_type": "code",
   "execution_count": 133,
   "id": "5d367217",
   "metadata": {},
   "outputs": [
    {
     "name": "stdout",
     "output_type": "stream",
     "text": [
      "SVM hyperparameters: {'C': 10.0, 'degree': 1, 'gamma': 10.0, 'kernel': 'poly'}\n",
      "KNN hyperparameters: {'leaf_size': 1, 'n_neighbors': 4, 'p': 1}\n"
     ]
    }
   ],
   "source": [
    "print(f'SVM hyperparameters: {svc_dfa.best_params_}')\n",
    "print(f'KNN hyperparameters: {knn_dfa.best_params_}')"
   ]
  },
  {
   "cell_type": "code",
   "execution_count": 134,
   "id": "3904cc42",
   "metadata": {},
   "outputs": [],
   "source": [
    "svm_dfa_model = SVC(C=10,\n",
    "                    degree=1,\n",
    "                    gamma=10,\n",
    "                    kernel='poly')\n",
    "\n",
    "knn_dfa_model = KNeighborsClassifier(leaf_size=1,\n",
    "                                     n_neighbors = 7,\n",
    "                                     p=2)\n",
    "\n",
    "zeroR_dfa = DummyClassifier(strategy='most_frequent')\n",
    "\n",
    "models = [svm_dfa_model, knn_dfa_model, zeroR_dfa]"
   ]
  },
  {
   "cell_type": "code",
   "execution_count": 135,
   "id": "4e46838f",
   "metadata": {},
   "outputs": [],
   "source": [
    "comp_dfa, recall, precision, f1, accuracy = cv_comparison(models, X_dfa, y)"
   ]
  },
  {
   "cell_type": "code",
   "execution_count": 136,
   "id": "84a2d595",
   "metadata": {},
   "outputs": [
    {
     "data": {
      "text/html": [
       "<div>\n",
       "<style scoped>\n",
       "    .dataframe tbody tr th:only-of-type {\n",
       "        vertical-align: middle;\n",
       "    }\n",
       "\n",
       "    .dataframe tbody tr th {\n",
       "        vertical-align: top;\n",
       "    }\n",
       "\n",
       "    .dataframe thead th {\n",
       "        text-align: right;\n",
       "    }\n",
       "</style>\n",
       "<table border=\"1\" class=\"dataframe\">\n",
       "  <thead>\n",
       "    <tr style=\"text-align: right;\">\n",
       "      <th></th>\n",
       "      <th>SVC(C=10, degree=1, gamma=10, kernel='poly')</th>\n",
       "      <th>KNeighborsClassifier(leaf_size=1, n_neighbors=7)</th>\n",
       "      <th>DummyClassifier(strategy='most_frequent')</th>\n",
       "    </tr>\n",
       "  </thead>\n",
       "  <tbody>\n",
       "    <tr>\n",
       "      <th>Accuracy</th>\n",
       "      <td>0.812500</td>\n",
       "      <td>0.718750</td>\n",
       "      <td>0.666667</td>\n",
       "    </tr>\n",
       "    <tr>\n",
       "      <th>F1-score</th>\n",
       "      <td>0.769231</td>\n",
       "      <td>0.689655</td>\n",
       "      <td>0.555556</td>\n",
       "    </tr>\n",
       "    <tr>\n",
       "      <th>Recall</th>\n",
       "      <td>0.714286</td>\n",
       "      <td>0.714286</td>\n",
       "      <td>0.476190</td>\n",
       "    </tr>\n",
       "    <tr>\n",
       "      <th>Precision</th>\n",
       "      <td>0.833333</td>\n",
       "      <td>0.666667</td>\n",
       "      <td>0.666667</td>\n",
       "    </tr>\n",
       "  </tbody>\n",
       "</table>\n",
       "</div>"
      ],
      "text/plain": [
       "           SVC(C=10, degree=1, gamma=10, kernel='poly')  \\\n",
       "Accuracy                                       0.812500   \n",
       "F1-score                                       0.769231   \n",
       "Recall                                         0.714286   \n",
       "Precision                                      0.833333   \n",
       "\n",
       "           KNeighborsClassifier(leaf_size=1, n_neighbors=7)  \\\n",
       "Accuracy                                           0.718750   \n",
       "F1-score                                           0.689655   \n",
       "Recall                                             0.714286   \n",
       "Precision                                          0.666667   \n",
       "\n",
       "           DummyClassifier(strategy='most_frequent')  \n",
       "Accuracy                                    0.666667  \n",
       "F1-score                                    0.555556  \n",
       "Recall                                      0.476190  \n",
       "Precision                                   0.666667  "
      ]
     },
     "execution_count": 136,
     "metadata": {},
     "output_type": "execute_result"
    }
   ],
   "source": [
    "comp_dfa"
   ]
  },
  {
   "cell_type": "markdown",
   "id": "3dde9baf",
   "metadata": {},
   "source": [
    "## 9. Prepare the reporting table and graph"
   ]
  },
  {
   "cell_type": "code",
   "execution_count": 67,
   "id": "1f4109cf",
   "metadata": {},
   "outputs": [],
   "source": [
    "table_res = pd.DataFrame({'Spectral features model (SVM algorithm)': [0.843750,0.800000, 0.714286, 0.909091], \n",
    "              'Spectral + DFA features model (SVM algorithm)': [0.812500,  0.769231, 0.714286,0.833333], \n",
    "              'Spectral features model (KNN algorithm)': [0.765625,  0.736842, 0.750000,0.724138],\n",
    "              'Spectral + DFA features model (KNN algorithm)': [0.718750,  0.689655, 0.714286,0.666667] }, index=['Accuracy', 'F1-score', 'Recall', 'Precision'])"
   ]
  },
  {
   "cell_type": "code",
   "execution_count": 68,
   "id": "0f1e7b07",
   "metadata": {},
   "outputs": [
    {
     "data": {
      "text/html": [
       "<div>\n",
       "<style scoped>\n",
       "    .dataframe tbody tr th:only-of-type {\n",
       "        vertical-align: middle;\n",
       "    }\n",
       "\n",
       "    .dataframe tbody tr th {\n",
       "        vertical-align: top;\n",
       "    }\n",
       "\n",
       "    .dataframe thead th {\n",
       "        text-align: right;\n",
       "    }\n",
       "</style>\n",
       "<table border=\"1\" class=\"dataframe\">\n",
       "  <thead>\n",
       "    <tr style=\"text-align: right;\">\n",
       "      <th></th>\n",
       "      <th>Spectral features model (SVM algorithm)</th>\n",
       "      <th>Spectral + DFA features model (SVM algorithm)</th>\n",
       "      <th>Spectral features model (KNN algorithm)</th>\n",
       "      <th>Spectral + DFA features model (KNN algorithm)</th>\n",
       "    </tr>\n",
       "  </thead>\n",
       "  <tbody>\n",
       "    <tr>\n",
       "      <th>Accuracy</th>\n",
       "      <td>0.843750</td>\n",
       "      <td>0.812500</td>\n",
       "      <td>0.765625</td>\n",
       "      <td>0.718750</td>\n",
       "    </tr>\n",
       "    <tr>\n",
       "      <th>F1-score</th>\n",
       "      <td>0.800000</td>\n",
       "      <td>0.769231</td>\n",
       "      <td>0.736842</td>\n",
       "      <td>0.689655</td>\n",
       "    </tr>\n",
       "    <tr>\n",
       "      <th>Recall</th>\n",
       "      <td>0.714286</td>\n",
       "      <td>0.714286</td>\n",
       "      <td>0.750000</td>\n",
       "      <td>0.714286</td>\n",
       "    </tr>\n",
       "    <tr>\n",
       "      <th>Precision</th>\n",
       "      <td>0.909091</td>\n",
       "      <td>0.833333</td>\n",
       "      <td>0.724138</td>\n",
       "      <td>0.666667</td>\n",
       "    </tr>\n",
       "  </tbody>\n",
       "</table>\n",
       "</div>"
      ],
      "text/plain": [
       "           Spectral features model (SVM algorithm)  \\\n",
       "Accuracy                                  0.843750   \n",
       "F1-score                                  0.800000   \n",
       "Recall                                    0.714286   \n",
       "Precision                                 0.909091   \n",
       "\n",
       "           Spectral + DFA features model (SVM algorithm)  \\\n",
       "Accuracy                                        0.812500   \n",
       "F1-score                                        0.769231   \n",
       "Recall                                          0.714286   \n",
       "Precision                                       0.833333   \n",
       "\n",
       "           Spectral features model (KNN algorithm)  \\\n",
       "Accuracy                                  0.765625   \n",
       "F1-score                                  0.736842   \n",
       "Recall                                    0.750000   \n",
       "Precision                                 0.724138   \n",
       "\n",
       "           Spectral + DFA features model (KNN algorithm)  \n",
       "Accuracy                                        0.718750  \n",
       "F1-score                                        0.689655  \n",
       "Recall                                          0.714286  \n",
       "Precision                                       0.666667  "
      ]
     },
     "execution_count": 68,
     "metadata": {},
     "output_type": "execute_result"
    }
   ],
   "source": [
    "table_res"
   ]
  },
  {
   "cell_type": "code",
   "execution_count": 70,
   "id": "6f587ab6",
   "metadata": {
    "scrolled": true
   },
   "outputs": [
    {
     "data": {
      "image/png": "[encoded data removed]",
      "text/plain": [
       "<Figure size 864x576 with 1 Axes>"
      ]
     },
     "metadata": {
      "needs_background": "light"
     },
     "output_type": "display_data"
    }
   ],
   "source": [
    "# set width of bar\n",
    "barWidth = 0.10\n",
    "fig = plt.subplots(figsize =(12, 8))\n",
    " \n",
    "# set height of bar\n",
    "Accuracy = [table_res.iloc[0][0], table_res.iloc[0][1], \n",
    "            table_res.iloc[0][2],table_res.iloc[0][3] ]\n",
    "F1_score = [table_res.iloc[1][0], table_res.iloc[1][1],\n",
    "            table_res.iloc[1][2], table_res.iloc[1][3] ]\n",
    "Recall = [table_res.iloc[2][0], table_res.iloc[2][1], \n",
    "          table_res.iloc[2][2], table_res.iloc[2][3]]\n",
    "Precision = [table_res.iloc[3][0], table_res.iloc[3][1], \n",
    "          table_res.iloc[3][2], table_res.iloc[3][3]]\n",
    " \n",
    "# Set position of bar on X axis\n",
    "br1 = np.arange(len(Accuracy))\n",
    "br2 = [x + barWidth for x in br1]\n",
    "br3 = [x + barWidth for x in br2]\n",
    "br4 = [x + barWidth for x in br3]\n",
    " \n",
    "# Make the plot\n",
    "plt.bar(br1, Accuracy, color ='maroon', width = barWidth,\n",
    "        edgecolor ='grey', label ='Accuracy')\n",
    "plt.bar(br2, F1_score, color ='saddlebrown', width = barWidth,\n",
    "        edgecolor ='grey', label ='F1-score')\n",
    "plt.bar(br3, Recall, color ='sandybrown', width = barWidth,\n",
    "        edgecolor ='grey', label ='Recall')\n",
    "plt.bar(br4, Precision, color ='peru', width = barWidth,\n",
    "        edgecolor ='grey', label ='Precision')\n",
    " \n",
    "# Adding Xticks\n",
    "# plt.xlabel('Models', fontweight ='bold', fontsize = 15)\n",
    "\n",
    "plt.ylabel('Metrics values', fontweight ='bold', fontsize = 15)\n",
    "plt.xticks([r + barWidth for r in range(len(Accuracy))],\n",
    "        ['SVM(Spec features)', 'SVM(Spec+DFA features)',\n",
    "         'KNN(Spec features)', 'KNN(Spec+DFA features)'], fontsize= 13)\n",
    "plt.yticks(list(np.arange(0, 1, 0.03)))\n",
    "\n",
    " \n",
    "plt.legend()\n",
    "# plt.savefig(r'C:\\Users\\nikol\\home\\master_thesis\\results.png')\n",
    "plt.show()\n"
   ]
  }
 ],
 "metadata": {
  "kernelspec": {
   "display_name": "master_thesis",
   "language": "python",
   "name": "master_thesis"
  },
  "language_info": {
   "codemirror_mode": {
    "name": "ipython",
    "version": 3
   },
   "file_extension": ".py",
   "mimetype": "text/x-python",
   "name": "python",
   "nbconvert_exporter": "python",
   "pygments_lexer": "ipython3",
   "version": "3.8.12"
  }
 },
 "nbformat": 4,
 "nbformat_minor": 5
}
